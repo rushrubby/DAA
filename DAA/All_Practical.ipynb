{
 "cells": [
  {
   "cell_type": "code",
   "execution_count": 1,
   "id": "61f25b6a-5558-40d4-ab35-89a2829e8ee8",
   "metadata": {},
   "outputs": [
    {
     "name": "stdin",
     "output_type": "stream",
     "text": [
      "Enter a number:  6\n"
     ]
    },
    {
     "name": "stdout",
     "output_type": "stream",
     "text": [
      "Iterative: 8\n",
      "Steps: 6\n",
      "Recursive: 8\n",
      "Steps: 25\n"
     ]
    }
   ],
   "source": [
    "#1.Write a program non-recursive and recursive program to calculate Fibonacci numbers and analyze their time and space complexity. \n",
    "\n",
    "# Non-Recursive (Iterative) Fibonacci Function \n",
    "def fibonacci_iter(n):\n",
    "    if n < 0:\n",
    "        return -1, 1\n",
    "    if n == 0 or n == 1:\n",
    "        return n, 1\n",
    "    steps = 0\n",
    "    a = 0\n",
    "    b = 1\n",
    "    for i in range(2, n+1):\n",
    "        c = a + b\n",
    "        a = b\n",
    "        b = c\n",
    "        steps += 1\n",
    "    return c, steps+1\n",
    "\n",
    "# Recursive Fibonacci Function \n",
    "def fibonacci_recur(n):\n",
    "    if n < 0:\n",
    "        return -1, 1\n",
    "    if n == 0 or n == 1:\n",
    "        return n, 1\n",
    "    fib1, steps1 = fibonacci_recur(n-1)\n",
    "    fib2, steps2 = fibonacci_recur(n-2)\n",
    "    return fib1 + fib2, steps1 + steps2 + 1\n",
    "\n",
    "# Example usage \n",
    "if __name__ == '__main__':\n",
    "    n = int(input(\"Enter a number: \"))\n",
    "    print(\"Iterative:\", fibonacci_iter(n)[0])\n",
    "    print(\"Steps:\", fibonacci_iter(n)[1])\n",
    "    print(\"Recursive:\", fibonacci_recur(n)[0])\n",
    "    print(\"Steps:\", fibonacci_recur(n)[1])\n"
   ]
  },
  {
   "cell_type": "code",
   "execution_count": null,
   "id": "c4ef090b-5e58-4e52-9cec-6b3f868e1ce0",
   "metadata": {},
   "outputs": [],
   "source": []
  },
  {
   "cell_type": "code",
   "execution_count": 3,
   "id": "eb9f8097-aefe-43cd-9573-832912b852fe",
   "metadata": {},
   "outputs": [
    {
     "name": "stdout",
     "output_type": "stream",
     "text": [
      "240.0\n"
     ]
    }
   ],
   "source": [
    "#2. Write a program to solve a fractional Knapsack problem using a greedy method \n",
    "\n",
    "def fractional_knapsack(value, weight, capacity): \n",
    "    items = sorted(zip(value, weight), key=lambda x: x[0]/x[1], reverse=True) \n",
    "    total_value = 0 \n",
    "    for v, w in items: \n",
    "        if capacity >= w: \n",
    "            total_value += v \n",
    "            capacity -= w \n",
    "        else: \n",
    "            total_value += v * (capacity / w) \n",
    "            break \n",
    "    return total_value \n",
    "# Example usage \n",
    "value = [60, 100, 120] \n",
    "weight = [10, 20, 30] \n",
    "capacity = 50 \n",
    "print(fractional_knapsack(value, weight, capacity)) "
   ]
  },
  {
   "cell_type": "code",
   "execution_count": null,
   "id": "3f773e6e-87c2-4165-962f-fdbf751509b8",
   "metadata": {},
   "outputs": [],
   "source": []
  },
  {
   "cell_type": "code",
   "execution_count": 4,
   "id": "39e39efd-24e7-48c5-b3c0-5a35234ad0c4",
   "metadata": {},
   "outputs": [
    {
     "name": "stdout",
     "output_type": "stream",
     "text": [
      "220\n"
     ]
    }
   ],
   "source": [
    "#3. Write a program to solve a 0-1 Knapsack problem using dynamic programming or branch and bound strategy. \n",
    "\n",
    "def knapsack_dp(value, weight, capacity): \n",
    "    n = len(value) \n",
    "    dp = [[0 for _ in range(capacity + 1)] for _ in range(n + 1)] \n",
    "\n",
    "    for i in range(1, n + 1): \n",
    "        for w in range(1, capacity + 1): \n",
    "            if weight[i - 1] <= w: \n",
    "                dp[i][w] = max(dp[i - 1][w], dp[i - 1][w - weight[i - 1]] + value[i - 1]) \n",
    "            else: \n",
    "                dp[i][w] = dp[i - 1][w] \n",
    "    return dp[n][capacity] \n",
    "# Example usage \n",
    "value = [60, 100, 120] \n",
    "weight = [10, 20, 30] \n",
    "capacity = 50 \n",
    "print(knapsack_dp(value, weight, capacity)) "
   ]
  },
  {
   "cell_type": "code",
   "execution_count": null,
   "id": "9807cad9-eeaa-4eda-bd9d-a3789e04184a",
   "metadata": {},
   "outputs": [],
   "source": []
  },
  {
   "cell_type": "code",
   "execution_count": 5,
   "id": "30a33391-fdfb-47c2-b434-013d4f09a9c6",
   "metadata": {},
   "outputs": [
    {
     "name": "stdout",
     "output_type": "stream",
     "text": [
      "[0, 1, 0, 0]\n",
      "[0, 0, 0, 1]\n",
      "[1, 0, 0, 0]\n",
      "[0, 0, 1, 0]\n"
     ]
    }
   ],
   "source": [
    "#4. Design n-Queens matrix having first Queen placed. Use backtracking to place remaining Queens to generate the final n-queen’s matrix. \n",
    "\n",
    "def is_safe(board, row, col, n): \n",
    "    # Check this column and upper diagonals \n",
    "    for i in range(row): \n",
    "        if board[i][col] == 1 or (col - (row - i) >= 0 and board[i][col - (row - i)] == 1) or (col + (row - i) < n and board[i][col + (row - i)] == 1): \n",
    "            return False \n",
    "    return True \n",
    "    \n",
    "def solve_nqueens(board, row, n): \n",
    "    if row == n:  # If all queens are placed \n",
    "        return True \n",
    "    for col in range(n): \n",
    "        if is_safe(board, row, col, n): \n",
    "            board[row][col] = 1  # Place the queen \n",
    "            if solve_nqueens(board, row + 1, n):  # Recursive call \n",
    "                return True \n",
    "            board[row][col] = 0  # Backtrack \n",
    "    return False\n",
    "    \n",
    "def n_queens_first_placed(n, first_row, first_col): \n",
    "    board = [[0 for _ in range(n)] for _ in range(n)] \n",
    "    board[first_row][first_col] = 1  # First queen placed \n",
    "    if not solve_nqueens(board, first_row + 1, n):  # Start placing queens from the next row \n",
    "        print(\"No solution found.\") \n",
    "    else: \n",
    "        for row in board: \n",
    "            print(row) \n",
    "            \n",
    "# Example usage \n",
    "n = 4 \n",
    "first_row, first_col = 0, 1  # First queen placed at position (0, 1) \n",
    "n_queens_first_placed(n, first_row, first_col)"
   ]
  },
  {
   "cell_type": "code",
   "execution_count": null,
   "id": "e457b792-ca7c-4adc-b522-88beebcb86c0",
   "metadata": {},
   "outputs": [],
   "source": []
  },
  {
   "cell_type": "code",
   "execution_count": 8,
   "id": "3393dc5f-9914-4f60-a27c-473b6a477393",
   "metadata": {},
   "outputs": [
    {
     "name": "stdin",
     "output_type": "stream",
     "text": [
      "Enter the elements of the array separated by space:  12 4 60 34 50 25 35\n"
     ]
    },
    {
     "name": "stdout",
     "output_type": "stream",
     "text": [
      "Sorted array (Deterministic): [12, 35, 4, 34, 60, 25, 50]\n"
     ]
    },
    {
     "name": "stdin",
     "output_type": "stream",
     "text": [
      "Enter the elements of the array again (for randomized quicksort):  12 4 60 34 50 25 35\n"
     ]
    },
    {
     "name": "stdout",
     "output_type": "stream",
     "text": [
      "Sorted array (Randomized): [12, 25, 35, 34, 50, 4, 60]\n"
     ]
    }
   ],
   "source": [
    "#5.  Write a program for quick sort by using deterministic and radomized variant. \n",
    "\n",
    "import random \n",
    "\n",
    "# Standard Deterministic Partition \n",
    "def partition(arr, low, high): \n",
    "    pivot = arr[high]  # Pivot as the last element (deterministic) \n",
    "    i = low - 1 \n",
    "    for j in range(low, high): \n",
    "        if arr[j] <= pivot: \n",
    "            i += 1 \n",
    "            arr[i], arr[j] = arr[j], arr[i] \n",
    "        arr[i + 1], arr[high] = arr[high], arr[i + 1] \n",
    "        return i + 1 \n",
    "            \n",
    "# Deterministic Quick Sort \n",
    "def quick_sort_deterministic(arr, low, high): \n",
    "    if low < high: \n",
    "        pi = partition(arr, low, high) \n",
    "        quick_sort_deterministic(arr, low, pi - 1) \n",
    "        quick_sort_deterministic(arr, pi + 1, high) \n",
    "            \n",
    "# Randomized Partition \n",
    "def partition_randomized(arr, low, high): \n",
    "    rand_index = random.randint(low, high)  # Select random pivot \n",
    "    arr[rand_index], arr[high] = arr[high], arr[rand_index]  # Swap with the last element \n",
    "    return partition(arr, low, high)  # Call the normal partition \n",
    "        \n",
    "# Randomized Quick Sort \n",
    "def quick_sort_randomized(arr, low, high): \n",
    "    if low < high: \n",
    "        pi = partition_randomized(arr, low, high) \n",
    "        quick_sort_randomized(arr, low, pi - 1) \n",
    "        quick_sort_randomized(arr, pi + 1, high) \n",
    "            \n",
    "# Sample usage \n",
    "if __name__ == \"__main__\": \n",
    "    # Taking array input from the user \n",
    "    arr = list(map(int, input(\"Enter the elements of the array separated by space: \").split())) \n",
    "    n = len(arr) \n",
    "\n",
    "# Deterministic Quick Sort \n",
    "quick_sort_deterministic(arr, 0, n - 1) \n",
    "print(\"Sorted array (Deterministic):\", arr) \n",
    "\n",
    "# Reset the array to its original unsorted state (ask the user again) \n",
    "arr = list(map(int, input(\"Enter the elements of the array again (for randomized quicksort): \").split())) \n",
    "\n",
    "# Randomized Quick Sort \n",
    "quick_sort_randomized(arr, 0, n - 1) \n",
    "print(\"Sorted array (Randomized):\", arr) "
   ]
  },
  {
   "cell_type": "code",
   "execution_count": null,
   "id": "c471a7bc-e660-479e-a7d3-32a79901a207",
   "metadata": {},
   "outputs": [],
   "source": []
  }
 ],
 "metadata": {
  "kernelspec": {
   "display_name": "Python 3 (ipykernel)",
   "language": "python",
   "name": "python3"
  },
  "language_info": {
   "codemirror_mode": {
    "name": "ipython",
    "version": 3
   },
   "file_extension": ".py",
   "mimetype": "text/x-python",
   "name": "python",
   "nbconvert_exporter": "python",
   "pygments_lexer": "ipython3",
   "version": "3.13.0"
  }
 },
 "nbformat": 4,
 "nbformat_minor": 5
}
